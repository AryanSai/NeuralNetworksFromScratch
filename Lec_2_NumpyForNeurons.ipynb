{
  "nbformat": 4,
  "nbformat_minor": 0,
  "metadata": {
    "colab": {
      "provenance": [],
      "authorship_tag": "ABX9TyPSrSOO/ClH0comjjQciTc+",
      "include_colab_link": true
    },
    "kernelspec": {
      "name": "python3",
      "display_name": "Python 3"
    },
    "language_info": {
      "name": "python"
    }
  },
  "cells": [
    {
      "cell_type": "markdown",
      "metadata": {
        "id": "view-in-github",
        "colab_type": "text"
      },
      "source": [
        "<a href=\"https://colab.research.google.com/github/AryanSai/NeuralNetworksFromScratch/blob/main/Lec_2_NumpyForNeurons.ipynb\" target=\"_parent\"><img src=\"https://colab.research.google.com/assets/colab-badge.svg\" alt=\"Open In Colab\"/></a>"
      ]
    },
    {
      "cell_type": "code",
      "execution_count": 1,
      "metadata": {
        "id": "ixupJ_MqRWRR"
      },
      "outputs": [],
      "source": [
        "import numpy as np"
      ]
    },
    {
      "cell_type": "markdown",
      "source": [
        "dot product of vector with vector => neuron\n",
        "\n",
        "dot product of vector with matrix => layer\n",
        "\n",
        "dot product of matrix with matrix => batch"
      ],
      "metadata": {
        "id": "tUb1tevJTnPp"
      }
    },
    {
      "cell_type": "markdown",
      "source": [
        "# A Single Neuron\n"
      ],
      "metadata": {
        "id": "LtNmL4L0T-FV"
      }
    },
    {
      "cell_type": "code",
      "source": [
        "# dot product of vector with vector => neuron\n",
        "\n",
        "inputs= np.array([1,2,3])\n",
        "weights = np.array([0.5,0.4,0.2])\n",
        "bias = 2\n",
        "y=np.dot(inputs,weights)+bias\n",
        "y1 =np.dot(weights,inputs)+bias\n",
        "#commutative\n",
        "print(y)\n",
        "print(y1)\n"
      ],
      "metadata": {
        "colab": {
          "base_uri": "https://localhost:8080/"
        },
        "id": "RlXWwQIIR4eL",
        "outputId": "83d6d46c-a1f6-4e02-dc10-7c5c01615c6e"
      },
      "execution_count": 7,
      "outputs": [
        {
          "output_type": "stream",
          "name": "stdout",
          "text": [
            "3.9000000000000004\n",
            "3.9000000000000004\n"
          ]
        }
      ]
    },
    {
      "cell_type": "markdown",
      "source": [
        "# Layer"
      ],
      "metadata": {
        "id": "n5woDfQ6WKAH"
      }
    },
    {
      "cell_type": "code",
      "source": [
        "inputs= np.array([1,2,3])\n",
        "weights = np.array([[0.5,0.4,0.2],[0.1,0.12,0.5],[0.2,0.6,0.1]]) #pass list of lists to array function\n",
        "bias = [2,1,3]\n",
        "y= np.dot(weights,inputs)+bias # (W * I) is correct not the vice versa\n",
        "print(y)"
      ],
      "metadata": {
        "colab": {
          "base_uri": "https://localhost:8080/"
        },
        "id": "m0WscP00UW-5",
        "outputId": "46362852-b6fc-414c-e248-930b916350c2"
      },
      "execution_count": 10,
      "outputs": [
        {
          "output_type": "stream",
          "name": "stdout",
          "text": [
            "[3.9  2.84 4.7 ]\n"
          ]
        }
      ]
    },
    {
      "cell_type": "markdown",
      "source": [
        "# Batch Data"
      ],
      "metadata": {
        "id": "g8ZyBPVMXojj"
      }
    },
    {
      "cell_type": "code",
      "source": [
        "inputs= np.array([[1,2,3],[0.1,0.2,3.2],[1.1,0.6,1],[1,2,1]])\n",
        "weights = np.array([[0.5,0.4,0.2],[0.1,0.12,0.5],[0.2,0.6,0.1],[0.1,0,0.1]]) #pass list of lists to array function\n",
        "bias = [2,1,3]\n",
        "print(np.dot(weights.T,inputs))\n",
        "y= np.dot(weights.T,inputs)+bias # (W * I) is correct not the vice versa\n",
        "print(y)"
      ],
      "metadata": {
        "colab": {
          "base_uri": "https://localhost:8080/"
        },
        "id": "IjZdUwcDVsCx",
        "outputId": "6d145f66-9c97-4a7c-b096-3a9bfec8a95f"
      },
      "execution_count": 16,
      "outputs": [
        {
          "output_type": "stream",
          "name": "stdout",
          "text": [
            "[[0.83  1.34  2.12 ]\n",
            " [1.072 1.184 2.184]\n",
            " [0.46  0.76  2.4  ]]\n",
            "[[2.83  2.34  5.12 ]\n",
            " [3.072 2.184 5.184]\n",
            " [2.46  1.76  5.4  ]]\n"
          ]
        }
      ]
    },
    {
      "cell_type": "code",
      "source": [],
      "metadata": {
        "id": "jeje4Ye7Y1G9"
      },
      "execution_count": null,
      "outputs": []
    }
  ]
}