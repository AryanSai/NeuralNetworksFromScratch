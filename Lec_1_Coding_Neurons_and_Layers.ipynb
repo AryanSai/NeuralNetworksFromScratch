{
  "nbformat": 4,
  "nbformat_minor": 0,
  "metadata": {
    "colab": {
      "provenance": [],
      "authorship_tag": "ABX9TyPJTRNDWnKGaiPe1NzjyrhN",
      "include_colab_link": true
    },
    "kernelspec": {
      "name": "python3",
      "display_name": "Python 3"
    },
    "language_info": {
      "name": "python"
    }
  },
  "cells": [
    {
      "cell_type": "markdown",
      "metadata": {
        "id": "view-in-github",
        "colab_type": "text"
      },
      "source": [
        "<a href=\"https://colab.research.google.com/github/AryanSai/NeuralNetworksFromScratch/blob/main/Lec_1_Coding_Neurons_and_Layers.ipynb\" target=\"_parent\"><img src=\"https://colab.research.google.com/assets/colab-badge.svg\" alt=\"Open In Colab\"/></a>"
      ]
    },
    {
      "cell_type": "markdown",
      "source": [
        "# A Simple Neuron"
      ],
      "metadata": {
        "id": "0R36sg8KjfSQ"
      }
    },
    {
      "cell_type": "code",
      "execution_count": 3,
      "metadata": {
        "colab": {
          "base_uri": "https://localhost:8080/"
        },
        "id": "SN3SlWjHh0UU",
        "outputId": "e3da738e-b9ec-4437-cba6-7bf3eaa648d0"
      },
      "outputs": [
        {
          "output_type": "stream",
          "name": "stdout",
          "text": [
            "0.3999999999999999\n"
          ]
        }
      ],
      "source": [
        "inputs=[1,2,3]\n",
        "weights=[0.2,0.3,-0.8]\n",
        "bias=2\n",
        "output=0\n",
        "for i in range(len(inputs)):\n",
        "    output+= inputs[i]*weights[i]\n",
        "output+=bias\n",
        "print(output)"
      ]
    },
    {
      "cell_type": "markdown",
      "source": [
        "# A Single layer with 3 Neurons"
      ],
      "metadata": {
        "id": "PSaTQN42kGNJ"
      }
    },
    {
      "cell_type": "code",
      "source": [
        "inputs=[1,2,3,4]\n",
        "weights=[[0.2,0.3,-0.8,0.5],[0.1,0.3,-0.2,0.7],[0.2,0.3,0,-0.8]]\n",
        "bias=[2,3,0.5]\n",
        "\n",
        "outputs=[]\n",
        "for i in range(len(weights)):\n",
        "    output=0\n",
        "    for j in range(len(inputs)):\n",
        "        output+=weights[i][j]*inputs[j]\n",
        "    outputs.append(output+bias[i])\n",
        "print(outputs)"
      ],
      "metadata": {
        "colab": {
          "base_uri": "https://localhost:8080/"
        },
        "id": "EObDCEWWilXa",
        "outputId": "65f68edd-562f-42ef-8e4a-6f8eb7c7f1ce"
      },
      "execution_count": 31,
      "outputs": [
        {
          "output_type": "stream",
          "name": "stdout",
          "text": [
            "[2.3999999999999995, 5.8999999999999995, -1.9000000000000004]\n"
          ]
        }
      ]
    },
    {
      "cell_type": "code",
      "source": [
        "inputs=[1,2,3,4]\n",
        "weights=[[0.2,0.3,-0.8,0.5],[0.1,0.3,-0.2,0.7],[0.2,0.3,0,-0.8]]\n",
        "bias=[2,3,0.5]\n",
        "\n",
        "outputs=[]\n",
        "for neuron_weights, neuron_bias in zip(weights,bias):\n",
        "    output=0\n",
        "    for weight, input in zip(neuron_weights,inputs):\n",
        "        output+=weight*input\n",
        "    output+=neuron_bias\n",
        "    outputs.append(output)\n",
        "print(outputs)"
      ],
      "metadata": {
        "colab": {
          "base_uri": "https://localhost:8080/"
        },
        "id": "NXVjn1CYorPD",
        "outputId": "c280d900-3994-445f-e9ea-92557a14b7d3"
      },
      "execution_count": 32,
      "outputs": [
        {
          "output_type": "stream",
          "name": "stdout",
          "text": [
            "[2.3999999999999995, 5.8999999999999995, -1.9000000000000004]\n"
          ]
        }
      ]
    }
  ]
}